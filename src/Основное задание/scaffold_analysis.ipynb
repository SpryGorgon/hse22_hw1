{
 "cells": [
  {
   "cell_type": "code",
   "execution_count": 1,
   "metadata": {},
   "outputs": [],
   "source": [
    "import os\n",
    "scaffold_path = '../scaffold/scaffold_scaffold.fa'\n",
    "scaffold_gap_path = '../scaffold/gap_close_gapClosed.fa'\n",
    "longest_scaffold_path = '../scaffold/longest.fasta'"
   ]
  },
  {
   "cell_type": "code",
   "execution_count": 2,
   "metadata": {},
   "outputs": [],
   "source": [
    "scaffolds = []\n",
    "with open(scaffold_path, 'r') as f:\n",
    "    text = f.readlines()\n",
    "    buf = ''\n",
    "    for line in text[1:]:\n",
    "        if line[0]=='>':\n",
    "            scaffolds.append(buf)\n",
    "            buf=''\n",
    "        else:\n",
    "            buf += line\n"
   ]
  },
  {
   "cell_type": "markdown",
   "metadata": {},
   "source": [
    "## Общее количество скаффолдов"
   ]
  },
  {
   "cell_type": "code",
   "execution_count": 3,
   "metadata": {},
   "outputs": [
    {
     "data": {
      "text/plain": [
       "68"
      ]
     },
     "execution_count": 3,
     "metadata": {},
     "output_type": "execute_result"
    }
   ],
   "source": [
    "len(scaffolds)"
   ]
  },
  {
   "cell_type": "markdown",
   "metadata": {},
   "source": [
    "## Их общая длина"
   ]
  },
  {
   "cell_type": "code",
   "execution_count": 4,
   "metadata": {},
   "outputs": [
    {
     "data": {
      "text/plain": [
       "3921699"
      ]
     },
     "execution_count": 4,
     "metadata": {},
     "output_type": "execute_result"
    }
   ],
   "source": [
    "sm=0\n",
    "for i in scaffolds:\n",
    "    sm+=len(i)\n",
    "sm"
   ]
  },
  {
   "cell_type": "markdown",
   "metadata": {},
   "source": [
    "## Длина самого длинного скаффолда"
   ]
  },
  {
   "cell_type": "code",
   "execution_count": 5,
   "metadata": {},
   "outputs": [
    {
     "data": {
      "text/plain": [
       "3885015"
      ]
     },
     "execution_count": 5,
     "metadata": {},
     "output_type": "execute_result"
    }
   ],
   "source": [
    "mx=0\n",
    "for i in scaffolds:\n",
    "    mx=max(mx, len(i))\n",
    "for i in scaffolds:\n",
    "    if(len(i)==mx):\n",
    "        with open(longest_scaffold_path, 'w') as f:\n",
    "            f.write(i)\n",
    "mx"
   ]
  },
  {
   "cell_type": "markdown",
   "metadata": {},
   "source": [
    "## N50"
   ]
  },
  {
   "cell_type": "code",
   "execution_count": 6,
   "metadata": {},
   "outputs": [
    {
     "data": {
      "text/plain": [
       "1"
      ]
     },
     "execution_count": 6,
     "metadata": {},
     "output_type": "execute_result"
    }
   ],
   "source": [
    "n50, cur = 0, 0\n",
    "for scaffold in scaffolds:\n",
    "    cur += len(scaffold)\n",
    "    n50+=1\n",
    "    if(cur>=sm/2): break\n",
    "n50"
   ]
  },
  {
   "cell_type": "markdown",
   "metadata": {},
   "source": [
    "## Количество гэпов для самого длинного скаффолда"
   ]
  },
  {
   "cell_type": "code",
   "execution_count": 7,
   "metadata": {},
   "outputs": [],
   "source": [
    "scaffold = ''\n",
    "for i in scaffolds:\n",
    "    if(len(i)==mx): \n",
    "        scaffold=i\n",
    "        break"
   ]
  },
  {
   "cell_type": "code",
   "execution_count": 8,
   "metadata": {},
   "outputs": [
    {
     "name": "stdout",
     "output_type": "stream",
     "text": [
      "Количество гэпов - 146, их общая длина - 6581\n"
     ]
    }
   ],
   "source": [
    "n_gaps=0\n",
    "gap_c = 'N'\n",
    "cur_gap_len=0\n",
    "gaps_len = 0\n",
    "for c in scaffold:\n",
    "    if(c!=gap_c):\n",
    "        n_gaps+=(1 if cur_gap_len>0 else 0)\n",
    "        gaps_len += cur_gap_len\n",
    "        cur_gap_len=0\n",
    "    else:\n",
    "        cur_gap_len+=1\n",
    "print(\"Количество гэпов - {0}, их общая длина - {1}\".format(n_gaps, gaps_len))"
   ]
  },
  {
   "cell_type": "markdown",
   "metadata": {},
   "source": [
    "## После gap_close"
   ]
  },
  {
   "cell_type": "code",
   "execution_count": 9,
   "metadata": {},
   "outputs": [],
   "source": [
    "gc_scaffolds = []\n",
    "with open(scaffold_gap_path, 'r') as f:\n",
    "    text = f.readlines()\n",
    "    buf = ''\n",
    "    for line in text[1:]:\n",
    "        if line[0]=='>':\n",
    "            gc_scaffolds.append(buf)\n",
    "            buf=''\n",
    "        else:\n",
    "            buf += line\n"
   ]
  },
  {
   "cell_type": "code",
   "execution_count": null,
   "metadata": {},
   "outputs": [],
   "source": [
    "gc_scaffold = ''\n",
    "for i in gc_scaffolds:\n",
    "    if(len(i)>len(gc_scaffold)): \n",
    "        gc_scaffold=i"
   ]
  },
  {
   "cell_type": "markdown",
   "metadata": {},
   "source": [
    "## Количество гэпов для самого длинного скаффолда"
   ]
  },
  {
   "cell_type": "code",
   "execution_count": 11,
   "metadata": {},
   "outputs": [
    {
     "name": "stdout",
     "output_type": "stream",
     "text": [
      "Количество гэпов - 23, их общая длина - 1246\n"
     ]
    }
   ],
   "source": [
    "n_gaps=0\n",
    "gap_c = 'N'\n",
    "cur_gap_len=0\n",
    "gaps_len = 0\n",
    "for c in gc_scaffold:\n",
    "    if(c!=gap_c):\n",
    "        n_gaps+=(1 if cur_gap_len>0 else 0)\n",
    "        gaps_len += cur_gap_len\n",
    "        cur_gap_len=0\n",
    "    else:\n",
    "        cur_gap_len+=1\n",
    "print(\"Количество гэпов - {0}, их общая длина - {1}\".format(n_gaps, gaps_len))"
   ]
  }
 ],
 "metadata": {
  "kernelspec": {
   "display_name": "Python 3.8.5 ('base')",
   "language": "python",
   "name": "python3"
  },
  "language_info": {
   "codemirror_mode": {
    "name": "ipython",
    "version": 3
   },
   "file_extension": ".py",
   "mimetype": "text/x-python",
   "name": "python",
   "nbconvert_exporter": "python",
   "pygments_lexer": "ipython3",
   "version": "3.8.5"
  },
  "orig_nbformat": 4,
  "vscode": {
   "interpreter": {
    "hash": "bef5b9074f635b33e9c9a95319feae784b80379f08754e3113bf7ed8530310e5"
   }
  }
 },
 "nbformat": 4,
 "nbformat_minor": 2
}
